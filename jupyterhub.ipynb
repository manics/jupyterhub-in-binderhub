{
 "cells": [
  {
   "cell_type": "markdown",
   "id": "cb38615c",
   "metadata": {},
   "source": [
    "# JupyterHub in BinderHub\n",
    "\n",
    "Have you ever wanted to run JupyterHub inside BinderHub? No? Didn't think so. But if you did.... you can try this notebook that uses a [Jupyter Bash kernel](https://pypi.org/project/bash_kernel/)."
   ]
  },
  {
   "cell_type": "markdown",
   "id": "6a35932f",
   "metadata": {},
   "source": [
    "First create a new Python environment for JupyterHub"
   ]
  },
  {
   "cell_type": "code",
   "execution_count": null,
   "id": "467aa3c8",
   "metadata": {
    "tags": []
   },
   "outputs": [],
   "source": [
    "python3 -mvenv ~/venv"
   ]
  },
  {
   "cell_type": "markdown",
   "id": "e406801d",
   "metadata": {},
   "source": [
    "and activate it"
   ]
  },
  {
   "cell_type": "code",
   "execution_count": null,
   "id": "7cf6989a",
   "metadata": {
    "tags": []
   },
   "outputs": [],
   "source": [
    ". ~/venv/bin/activate"
   ]
  },
  {
   "cell_type": "markdown",
   "id": "66a3d932",
   "metadata": {},
   "source": [
    "Next install JupyterHub.\n",
    "To keep things simple we'll use the same virtualenv for the user, so also install Jupyter Notebook."
   ]
  },
  {
   "cell_type": "code",
   "execution_count": null,
   "id": "f8953b7b-f39b-47a7-9300-59eab3d2139a",
   "metadata": {
    "tags": []
   },
   "outputs": [],
   "source": [
    "pip install jupyterhub notebook"
   ]
  },
  {
   "cell_type": "markdown",
   "id": "9cc625c2",
   "metadata": {},
   "source": [
    "Next we need to install configurable-http-proxy from NPM"
   ]
  },
  {
   "cell_type": "code",
   "execution_count": null,
   "id": "166c260b",
   "metadata": {
    "tags": []
   },
   "outputs": [],
   "source": [
    "npm install -g configurable-http-proxy"
   ]
  },
  {
   "cell_type": "markdown",
   "id": "6151c333-9757-4829-bab6-7b2088661dea",
   "metadata": {},
   "source": [
    "If you want to test an unreleased version of JupyterHub you can install it from GitHub.\n",
    "For example, to install the `main` branch run:\n",
    "```\n",
    "pip install git+https://github.com/jupyterhub/jupyterhub.git\n",
    "```\n",
    "To install a pull request set `PR` to the JupyterHub PR number and run:\n",
    "```\n",
    "PR=4844\n",
    "pip install git+https://github.com/jupyterhub/jupyterhub.git@refs/pull/$PR/merge\n",
    "```"
   ]
  },
  {
   "cell_type": "markdown",
   "id": "428fff0a",
   "metadata": {},
   "source": [
    "Check `jupyterhub` is installed"
   ]
  },
  {
   "cell_type": "code",
   "execution_count": null,
   "id": "cc9e849e",
   "metadata": {
    "tags": []
   },
   "outputs": [],
   "source": [
    "which jupyterhub"
   ]
  },
  {
   "cell_type": "markdown",
   "id": "bf984be8",
   "metadata": {},
   "source": [
    "This repo comes with [jupyter-server-proxy](https://jupyter-server-proxy.readthedocs.io/) pre-installed.\n",
    "jupyter-server-proxy allows us to run a web application inside the notebook and make it available through the browser.\n",
    "\n",
    "Since we'll need to proxy JupyterHub through the notebook we have to set a custom base-url that includes the notebook prefix and the jupyter-server-proxy prefix.\n",
    "Set `PORT` to any free port, the default is `8000`."
   ]
  },
  {
   "cell_type": "code",
   "execution_count": null,
   "id": "1ad71f8a",
   "metadata": {
    "tags": []
   },
   "outputs": [],
   "source": [
    "export PORT=8000\n",
    "export BASEURL=\"${JUPYTERHUB_SERVICE_PREFIX:-/}proxy/absolute/$PORT\""
   ]
  },
  {
   "cell_type": "markdown",
   "id": "3af40534",
   "metadata": {},
   "source": [
    "JupyterHub defaults to loading its configuration from [`jupyterhub_config.py`](jupyterhub_config.py) in the current directory.\n",
    "We'll use [`DummyAuthenticator` and the `SimpleLocalProcessSpawner`](https://jupyterhub.readthedocs.io/en/stable/contributing/setup.html#using-dummyauthenticator-simplelocalprocessspawner) for testing as the default unprivileged user.\n",
    "This is not suitable for production!\n",
    "\n",
    "After running the next command you should be able to see JupyterHub running at `<current-host>$BASEURL`. Login with any username and password, and you should be in JupyterHub in BinderHub!\n",
    "\n",
    "Note you can't use `Ctrl-C` to interrupt the bash kernel in this notebook.\n",
    "Instead interrupt the kernel from the menu, or the `i i` keyboard shortcut."
   ]
  },
  {
   "cell_type": "code",
   "execution_count": null,
   "id": "8a2e5584",
   "metadata": {
    "tags": []
   },
   "outputs": [],
   "source": [
    "echo -e \"\\n**********\\nStarting JupyterHub under <current-host>$BASEURL\\n**********\\n\\n\"\n",
    "jupyterhub --debug"
   ]
  },
  {
   "cell_type": "code",
   "execution_count": null,
   "id": "bcb2b2b2",
   "metadata": {},
   "outputs": [],
   "source": []
  }
 ],
 "metadata": {
  "kernelspec": {
   "display_name": "Bash",
   "language": "bash",
   "name": "bash"
  },
  "language_info": {
   "codemirror_mode": "shell",
   "file_extension": ".sh",
   "mimetype": "text/x-sh",
   "name": "bash"
  }
 },
 "nbformat": 4,
 "nbformat_minor": 5
}
