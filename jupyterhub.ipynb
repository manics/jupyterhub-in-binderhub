{
 "cells": [
  {
   "cell_type": "markdown",
   "id": "prerequisite-hunter",
   "metadata": {},
   "source": [
    "# JupyterHub in BinderHub\n",
    "\n",
    "Have you ever wanted to run JupyterHub inside BinderHub? No? Didn't think so. But if you did.... you can try this notebook that uses a [Jupyter Bash kernel](https://pypi.org/project/bash_kernel/)."
   ]
  },
  {
   "cell_type": "markdown",
   "id": "liquid-oregon",
   "metadata": {},
   "source": [
    "First create a new Python environment for JupyterHub"
   ]
  },
  {
   "cell_type": "code",
   "execution_count": null,
   "id": "heated-dictionary",
   "metadata": {},
   "outputs": [],
   "source": [
    "python3 -mvenv ~/venv"
   ]
  },
  {
   "cell_type": "markdown",
   "id": "statutory-reader",
   "metadata": {},
   "source": [
    "and activate it"
   ]
  },
  {
   "cell_type": "code",
   "execution_count": null,
   "id": "historical-argument",
   "metadata": {},
   "outputs": [],
   "source": [
    ". ~/venv/bin/activate"
   ]
  },
  {
   "cell_type": "markdown",
   "id": "fresh-mozambique",
   "metadata": {},
   "source": [
    "Next install JupyterHub. To keep things simple we'll use the same virtualenv for the user, so also install Jupyter Notebook"
   ]
  },
  {
   "cell_type": "code",
   "execution_count": null,
   "id": "noble-quantity",
   "metadata": {},
   "outputs": [],
   "source": [
    "pip install jupyterhub notebook"
   ]
  },
  {
   "cell_type": "markdown",
   "id": "satisfied-booking",
   "metadata": {},
   "source": [
    "Check `jupyterhub` is installed"
   ]
  },
  {
   "cell_type": "code",
   "execution_count": null,
   "id": "compressed-witness",
   "metadata": {},
   "outputs": [],
   "source": [
    "which jupyterhub\n",
    "jupyterhub --version"
   ]
  },
  {
   "cell_type": "markdown",
   "id": "productive-basis",
   "metadata": {},
   "source": [
    "This repo comes with [jupyter-server-proxy](https://jupyter-server-proxy.readthedocs.io/) pre-installed.\n",
    "jupyter-server-proxy allows us to run a web application inside the notebook and make it available through the browser.\n",
    "\n",
    "Since we'll need to proxy JupyterHub through the notebook we have to set a custom base-url that includes the notebook prefix and the jupyter-server-proxy prefix.\n",
    "Set `PORT` to any free port, the default is `8000`."
   ]
  },
  {
   "cell_type": "code",
   "execution_count": null,
   "id": "colonial-server",
   "metadata": {},
   "outputs": [],
   "source": [
    "PORT=8000\n",
    "BASEURL=\"${JUPYTERHUB_SERVICE_PREFIX:-/}proxy/absolute/$PORT\""
   ]
  },
  {
   "cell_type": "markdown",
   "id": "headed-burke",
   "metadata": {},
   "source": [
    "We'll use the [`DummyAuthenticator`](https://jupyterhub.readthedocs.io/en/stable/reference/authenticators.html#the-dummy-authenticator) for authentication.\n",
    "Note that since we'll be running JupyterHub as a non-privileged user only the `jovyan` user will work.\n",
    "\n",
    "After running the next command you should be able to see JupyterHub running at `<current-host>$BASEURL`. Login as user `jovyan` and any password, and you should be in JupyterHub in BinderHub!\n",
    "\n",
    "Note you can't use `Ctrl-C` to interrupt the bash kernel in this notebook.\n",
    "Instead interrupt the kernel from the menu, or the `i i` keyboard shortcut."
   ]
  },
  {
   "cell_type": "code",
   "execution_count": null,
   "id": "saved-resort",
   "metadata": {},
   "outputs": [],
   "source": [
    "echo \"Starting JupyterHub under <current-host>$BASEURL\"\n",
    "jupyterhub --base-url=\"$BASEURL\" --JupyterHub.authenticator_class=dummy --port=$PORT --debug"
   ]
  },
  {
   "cell_type": "code",
   "execution_count": null,
   "id": "exclusive-landing",
   "metadata": {},
   "outputs": [],
   "source": []
  }
 ],
 "metadata": {
  "kernelspec": {
   "display_name": "Bash",
   "language": "bash",
   "name": "bash"
  },
  "language_info": {
   "codemirror_mode": "shell",
   "file_extension": ".sh",
   "mimetype": "text/x-sh",
   "name": "bash"
  }
 },
 "nbformat": 4,
 "nbformat_minor": 5
}
