{
  "metadata": {
    "kernelspec": {
      "display_name": "Bash",
      "language": "bash",
      "name": "bash"
    },
    "language_info": {
      "codemirror_mode": "shell",
      "file_extension": ".sh",
      "mimetype": "text/x-sh",
      "name": "bash"
    }
  },
  "nbformat_minor": 5,
  "nbformat": 4,
  "cells": [
    {
      "cell_type": "markdown",
      "source": "# JupyterHub in BinderHub\n\nHave you ever wanted to run JupyterHub inside BinderHub? No? Didn't think so. But if you did.... you can try this notebook that uses a [Jupyter Bash kernel](https://pypi.org/project/bash_kernel/).",
      "metadata": {}
    },
    {
      "cell_type": "markdown",
      "source": "First create a new Python environment for JupyterHub",
      "metadata": {}
    },
    {
      "cell_type": "code",
      "source": "python3 -mvenv ~/venv",
      "metadata": {
        "trusted": true
      },
      "execution_count": 1,
      "outputs": []
    },
    {
      "cell_type": "markdown",
      "source": "and activate it",
      "metadata": {}
    },
    {
      "cell_type": "code",
      "source": ". ~/venv/bin/activate",
      "metadata": {
        "trusted": true
      },
      "execution_count": 2,
      "outputs": [
        {
          "name": "stdout",
          "text": "(venv) ",
          "output_type": "stream"
        },
        {
          "ename": "",
          "evalue": "1",
          "traceback": [],
          "output_type": "error"
        }
      ]
    },
    {
      "cell_type": "markdown",
      "source": "Next install JupyterHub.\nTo keep things simple we'll use the same virtualenv for the user, so also install Jupyter Notebook.\nSince this is running as an unprivileged user we can't use the usual spawner, so we'll use [Simple Spawner](https://github.com/jupyterhub/simplespawner) which runs each JupyterHub user in a different directory without switching user IDs.\nThis is not suitable for production!",
      "metadata": {}
    },
    {
      "cell_type": "code",
      "source": "pip install jupyterhub notebook jupyterhub-simplespawner",
      "metadata": {
        "trusted": true
      },
      "execution_count": 3,
      "outputs": [
        {
          "name": "stdout",
          "text": "Collecting jupyterhub\n  Using cached jupyterhub-1.3.0-py3-none-any.whl (3.6 MB)\nCollecting notebook\n  Using cached notebook-6.3.0-py3-none-any.whl (9.5 MB)\nCollecting jupyterhub-simplespawner\n  Using cached jupyterhub_simplespawner-0.1-py3-none-any.whl (3.0 kB)\nCollecting jupyter-telemetry>=0.1.0\n  Using cached jupyter_telemetry-0.1.0-py3-none-any.whl (7.1 kB)\nCollecting oauthlib>=3.0\n  Using cached oauthlib-3.1.0-py2.py3-none-any.whl (147 kB)\nCollecting pamela; sys_platform != \"win32\"\n  Using cached pamela-1.0.0-py2.py3-none-any.whl (5.8 kB)\nCollecting SQLAlchemy>=1.1\n  Using cached SQLAlchemy-1.4.3-cp37-cp37m-manylinux2014_x86_64.whl (1.5 MB)\nCollecting requests\n  Using cached requests-2.25.1-py2.py3-none-any.whl (61 kB)\nCollecting prometheus-client>=0.4.0\n  Using cached prometheus_client-0.9.0-py2.py3-none-any.whl (53 kB)\nCollecting traitlets>=4.3.2\n  Using cached traitlets-5.0.5-py3-none-any.whl (100 kB)\nCollecting async-generator>=1.9\n  Using cached async_generator-1.10-py3-none-any.whl (18 kB)\nCollecting jinja2>=2.11.0\n  Using cached Jinja2-2.11.3-py2.py3-none-any.whl (125 kB)\nCollecting alembic\n  Using cached alembic-1.5.8-py2.py3-none-any.whl (159 kB)\nCollecting certipy>=0.1.2\n  Using cached certipy-0.1.3-py3-none-any.whl (22 kB)\nCollecting entrypoints\n  Using cached entrypoints-0.3-py2.py3-none-any.whl (11 kB)\nCollecting tornado>=5.1\n  Using cached tornado-6.1-cp37-cp37m-manylinux2010_x86_64.whl (428 kB)\nCollecting python-dateutil\n  Using cached python_dateutil-2.8.1-py2.py3-none-any.whl (227 kB)\nCollecting nbconvert\n  Using cached nbconvert-6.0.7-py3-none-any.whl (552 kB)\nCollecting jupyter-core>=4.6.1\n  Using cached jupyter_core-4.7.1-py3-none-any.whl (82 kB)\nCollecting ipython-genutils\n  Using cached ipython_genutils-0.2.0-py2.py3-none-any.whl (26 kB)\nCollecting Send2Trash>=1.5.0\n  Using cached Send2Trash-1.5.0-py3-none-any.whl (12 kB)\nCollecting argon2-cffi\n  Using cached argon2_cffi-20.1.0-cp35-abi3-manylinux1_x86_64.whl (97 kB)\nCollecting ipykernel\n  Using cached ipykernel-5.5.0-py3-none-any.whl (120 kB)\nCollecting pyzmq>=17\n  Using cached pyzmq-22.0.3-cp37-cp37m-manylinux1_x86_64.whl (1.1 MB)\nCollecting jupyter-client>=5.3.4\n  Using cached jupyter_client-6.1.12-py3-none-any.whl (112 kB)\nCollecting terminado>=0.8.3\n  Using cached terminado-0.9.3-py3-none-any.whl (14 kB)\nCollecting nbformat\n  Using cached nbformat-5.1.2-py3-none-any.whl (113 kB)\nCollecting jsonschema\n  Using cached jsonschema-3.2.0-py2.py3-none-any.whl (56 kB)\nCollecting python-json-logger\n  Using cached python-json-logger-2.0.1.tar.gz (9.1 kB)\nCollecting ruamel.yaml\n  Using cached ruamel.yaml-0.17.0-py2.py3-none-any.whl (101 kB)\nCollecting importlib-metadata; python_version < \"3.8\"\n  Using cached importlib_metadata-3.7.3-py3-none-any.whl (12 kB)\nCollecting greenlet!=0.4.17; python_version >= \"3\"\n  Using cached greenlet-1.0.0-cp37-cp37m-manylinux2010_x86_64.whl (160 kB)\nCollecting chardet<5,>=3.0.2\n  Using cached chardet-4.0.0-py2.py3-none-any.whl (178 kB)\nCollecting certifi>=2017.4.17\n  Using cached certifi-2020.12.5-py2.py3-none-any.whl (147 kB)\nCollecting idna<3,>=2.5\n  Using cached idna-2.10-py2.py3-none-any.whl (58 kB)\nCollecting urllib3<1.27,>=1.21.1\n  Using cached urllib3-1.26.4-py2.py3-none-any.whl (153 kB)\nCollecting MarkupSafe>=0.23\n  Using cached MarkupSafe-1.1.1-cp37-cp37m-manylinux2010_x86_64.whl (33 kB)\nCollecting Mako\n  Using cached Mako-1.1.4-py2.py3-none-any.whl (75 kB)\nCollecting python-editor>=0.3\n  Using cached python_editor-1.0.4-py3-none-any.whl (4.9 kB)\nCollecting pyopenssl\n  Using cached pyOpenSSL-20.0.1-py2.py3-none-any.whl (54 kB)\nCollecting six>=1.5\n  Using cached six-1.15.0-py2.py3-none-any.whl (10 kB)\nCollecting jupyterlab-pygments\n  Using cached jupyterlab_pygments-0.1.2-py2.py3-none-any.whl (4.6 kB)\nCollecting defusedxml\n  Using cached defusedxml-0.7.1-py2.py3-none-any.whl (25 kB)\nCollecting testpath\n  Using cached testpath-0.4.4-py2.py3-none-any.whl (163 kB)\nCollecting pygments>=2.4.1\n  Using cached Pygments-2.8.1-py3-none-any.whl (983 kB)\nCollecting nbclient<0.6.0,>=0.5.0\n  Using cached nbclient-0.5.3-py3-none-any.whl (82 kB)\nCollecting pandocfilters>=1.4.1\n  Using cached pandocfilters-1.4.3.tar.gz (16 kB)\nCollecting bleach\n  Using cached bleach-3.3.0-py2.py3-none-any.whl (283 kB)\nCollecting mistune<2,>=0.8.1\n  Using cached mistune-0.8.4-py2.py3-none-any.whl (16 kB)\nCollecting cffi>=1.0.0\n  Using cached cffi-1.14.5-cp37-cp37m-manylinux1_x86_64.whl (402 kB)\nCollecting ipython>=5.0.0\n  Using cached ipython-7.21.0-py3-none-any.whl (784 kB)\nCollecting ptyprocess; os_name != \"nt\"\n  Using cached ptyprocess-0.7.0-py2.py3-none-any.whl (13 kB)\nCollecting attrs>=17.4.0\n  Using cached attrs-20.3.0-py2.py3-none-any.whl (49 kB)\nCollecting pyrsistent>=0.14.0\n  Using cached pyrsistent-0.17.3.tar.gz (106 kB)\nRequirement already satisfied: setuptools in ./venv/lib/python3.7/site-packages (from jsonschema->jupyter-telemetry>=0.1.0->jupyterhub) (47.1.0)\nCollecting ruamel.yaml.clib>=0.1.2; platform_python_implementation == \"CPython\" and python_version < \"3.10\"\n  Using cached ruamel.yaml.clib-0.2.2-cp37-cp37m-manylinux1_x86_64.whl (547 kB)\nCollecting typing-extensions>=3.6.4; python_version < \"3.8\"\n  Using cached typing_extensions-3.7.4.3-py3-none-any.whl (22 kB)\nCollecting zipp>=0.5\n  Using cached zipp-3.4.1-py3-none-any.whl (5.2 kB)\nCollecting cryptography>=3.2\n  Using cached cryptography-3.4.7-cp36-abi3-manylinux2014_x86_64.whl (3.2 MB)\nCollecting nest-asyncio\n  Using cached nest_asyncio-1.5.1-py3-none-any.whl (5.0 kB)\nCollecting webencodings\n  Using cached webencodings-0.5.1-py2.py3-none-any.whl (11 kB)\nCollecting packaging\n  Using cached packaging-20.9-py2.py3-none-any.whl (40 kB)\nCollecting pycparser\n  Using cached pycparser-2.20-py2.py3-none-any.whl (112 kB)\nCollecting prompt-toolkit!=3.0.0,!=3.0.1,<3.1.0,>=2.0.0\n  Using cached prompt_toolkit-3.0.18-py3-none-any.whl (367 kB)\nCollecting pickleshare\n  Using cached pickleshare-0.7.5-py2.py3-none-any.whl (6.9 kB)\nCollecting backcall\n  Using cached backcall-0.2.0-py2.py3-none-any.whl (11 kB)\nCollecting pexpect>4.3; sys_platform != \"win32\"\n  Using cached pexpect-4.8.0-py2.py3-none-any.whl (59 kB)\nCollecting jedi>=0.16\n  Using cached jedi-0.18.0-py2.py3-none-any.whl (1.4 MB)\nCollecting decorator\n  Using cached decorator-4.4.2-py2.py3-none-any.whl (9.2 kB)\nCollecting pyparsing>=2.0.2\n  Using cached pyparsing-2.4.7-py2.py3-none-any.whl (67 kB)\nCollecting wcwidth\n  Using cached wcwidth-0.2.5-py2.py3-none-any.whl (30 kB)\nCollecting parso<0.9.0,>=0.8.0\n  Using cached parso-0.8.1-py2.py3-none-any.whl (93 kB)\nUsing legacy setup.py install for python-json-logger, since package 'wheel' is not installed.\nUsing legacy setup.py install for pandocfilters, since package 'wheel' is not installed.\nUsing legacy setup.py install for pyrsistent, since package 'wheel' is not installed.\nInstalling collected packages: typing-extensions, zipp, importlib-metadata, six, attrs, pyrsistent, jsonschema, ipython-genutils, traitlets, python-json-logger, ruamel.yaml.clib, ruamel.yaml, jupyter-telemetry, oauthlib, pamela, greenlet, SQLAlchemy, chardet, certifi, idna, urllib3, requests, prometheus-client, async-generator, MarkupSafe, jinja2, python-dateutil, Mako, python-editor, alembic, pycparser, cffi, cryptography, pyopenssl, certipy, entrypoints, tornado, jupyterhub, jupyter-core, nbformat, pygments, jupyterlab-pygments, defusedxml, testpath, pyzmq, jupyter-client, nest-asyncio, nbclient, pandocfilters, webencodings, pyparsing, packaging, bleach, mistune, nbconvert, Send2Trash, argon2-cffi, wcwidth, prompt-toolkit, pickleshare, backcall, ptyprocess, pexpect, parso, jedi, decorator, ipython, ipykernel, terminado, notebook, jupyterhub-simplespawner\n    Running setup.py install for pyrsistent ... \u001b[?25ldone\n\u001b[?25h    Running setup.py install for python-json-logger ... \u001b[?25ldone\n\u001b[?25h    Running setup.py install for pandocfilters ... \u001b[?25ldone\n\u001b[?25hSuccessfully installed Mako-1.1.4 MarkupSafe-1.1.1 SQLAlchemy-1.4.3 Send2Trash-1.5.0 alembic-1.5.8 argon2-cffi-20.1.0 async-generator-1.10 attrs-20.3.0 backcall-0.2.0 bleach-3.3.0 certifi-2020.12.5 certipy-0.1.3 cffi-1.14.5 chardet-4.0.0 cryptography-3.4.7 decorator-4.4.2 defusedxml-0.7.1 entrypoints-0.3 greenlet-1.0.0 idna-2.10 importlib-metadata-3.7.3 ipykernel-5.5.0 ipython-7.21.0 ipython-genutils-0.2.0 jedi-0.18.0 jinja2-2.11.3 jsonschema-3.2.0 jupyter-client-6.1.12 jupyter-core-4.7.1 jupyter-telemetry-0.1.0 jupyterhub-1.3.0 jupyterhub-simplespawner-0.1 jupyterlab-pygments-0.1.2 mistune-0.8.4 nbclient-0.5.3 nbconvert-6.0.7 nbformat-5.1.2 nest-asyncio-1.5.1 notebook-6.3.0 oauthlib-3.1.0 packaging-20.9 pamela-1.0.0 pandocfilters-1.4.3 parso-0.8.1 pexpect-4.8.0 pickleshare-0.7.5 prometheus-client-0.9.0 prompt-toolkit-3.0.18 ptyprocess-0.7.0 pycparser-2.20 pygments-2.8.1 pyopenssl-20.0.1 pyparsing-2.4.7 pyrsistent-0.17.3 python-dateutil-2.8.1 python-editor-1.0.4 python-json-logger-2.0.1 pyzmq-22.0.3 requests-2.25.1 ruamel.yaml-0.17.0 ruamel.yaml.clib-0.2.2 six-1.15.0 terminado-0.9.3 testpath-0.4.4 tornado-6.1 traitlets-5.0.5 typing-extensions-3.7.4.3 urllib3-1.26.4 wcwidth-0.2.5 webencodings-0.5.1 zipp-3.4.1\n\u001b[33mWARNING: You are using pip version 20.1.1; however, version 21.0.1 is available.\nYou should consider upgrading via the '/home/jovyan/venv/bin/python3 -m pip install --upgrade pip' command.\u001b[0m\n(venv) ",
          "output_type": "stream"
        },
        {
          "ename": "",
          "evalue": "1",
          "traceback": [],
          "output_type": "error"
        }
      ]
    },
    {
      "cell_type": "markdown",
      "source": "Next we need to install configurable-http-proxy from NPM",
      "metadata": {}
    },
    {
      "cell_type": "code",
      "source": "npm install -g configurable-http-proxy",
      "metadata": {
        "trusted": true
      },
      "execution_count": 4,
      "outputs": [
        {
          "name": "stdout",
          "text": "\u001b[K\u001b[?25h/srv/npm/bin/configurable-http-proxy -> /srv/npm/lib/node_modules/configurable-http-proxy/bin/configurable-http-proxy\n\u001b[K\u001b[?25h+ configurable-http-proxy@4.3.1[0m] | postinstall: \u001b[32minfo\u001b[0m \u001b[35mlifecycle\u001b[0m configurable-http-proxy@4.3.\u001b[0m\u001b[K\nadded 45 packages from 58 contributors in 3.513s\n(venv) ",
          "output_type": "stream"
        },
        {
          "ename": "",
          "evalue": "1",
          "traceback": [],
          "output_type": "error"
        }
      ]
    },
    {
      "cell_type": "markdown",
      "source": "Check `jupyterhub` is installed",
      "metadata": {}
    },
    {
      "cell_type": "code",
      "source": "which jupyterhub\njupyterhub --version",
      "metadata": {
        "trusted": true
      },
      "execution_count": 5,
      "outputs": [
        {
          "name": "stdout",
          "text": "/home/jovyan/venv/bin/jupyterhub\n(venv) 1.3.0\n(venv) ",
          "output_type": "stream"
        },
        {
          "ename": "",
          "evalue": "1",
          "traceback": [],
          "output_type": "error"
        }
      ]
    },
    {
      "cell_type": "markdown",
      "source": "This repo comes with [jupyter-server-proxy](https://jupyter-server-proxy.readthedocs.io/) pre-installed.\njupyter-server-proxy allows us to run a web application inside the notebook and make it available through the browser.\n\nSince we'll need to proxy JupyterHub through the notebook we have to set a custom base-url that includes the notebook prefix and the jupyter-server-proxy prefix.\nSet `PORT` to any free port, the default is `8000`.",
      "metadata": {}
    },
    {
      "cell_type": "code",
      "source": "PORT=8000\nBASEURL=\"${JUPYTERHUB_SERVICE_PREFIX:-/}proxy/absolute/$PORT\"",
      "metadata": {
        "trusted": true
      },
      "execution_count": 6,
      "outputs": [
        {
          "name": "stdout",
          "text": "(venv) (venv) ",
          "output_type": "stream"
        },
        {
          "ename": "",
          "evalue": "1",
          "traceback": [],
          "output_type": "error"
        }
      ]
    },
    {
      "cell_type": "markdown",
      "source": "We'll use the [`DummyAuthenticator`](https://jupyterhub.readthedocs.io/en/stable/reference/authenticators.html#the-dummy-authenticator) for authentication.\nNote that since we'll be running JupyterHub as a non-privileged user only the `jovyan` user will work.\n\nAfter running the next command you should be able to see JupyterHub running at `<current-host>$BASEURL`. Login with any username and password, and you should be in JupyterHub in BinderHub!\n\nNote you can't use `Ctrl-C` to interrupt the bash kernel in this notebook.\nInstead interrupt the kernel from the menu, or the `i i` keyboard shortcut.",
      "metadata": {}
    },
    {
      "cell_type": "code",
      "source": "echo -e \"\\n**********\\nStarting JupyterHub under <current-host>$BASEURL\\n**********\\n\\n\"\njupyterhub --base-url=\"$BASEURL\" --JupyterHub.authenticator_class=dummy --JupyterHub.spawner_class=simple --port=$PORT --debug",
      "metadata": {
        "trusted": true
      },
      "execution_count": null,
      "outputs": [
        {
          "name": "stdout",
          "text": "\n**********\nStarting JupyterHub under <current-host>/user/manics-cd04d42b-0430ee33349cd49-unoobfdn/proxy/absolute/8000\n**********\n\n\n(venv) [D 2021-03-26 22:15:12.749 JupyterHub application:730] Looking for jupyterhub_config in /home/jovyan\n[I 2021-03-26 22:15:12.761 JupyterHub app:2349] Running JupyterHub version 1.3.0\n[I 2021-03-26 22:15:12.762 JupyterHub app:2380] Using Authenticator: jupyterhub.auth.DummyAuthenticator-1.3.0\n[I 2021-03-26 22:15:12.762 JupyterHub app:2380] Using Spawner: jupyterhub.spawner.SimpleLocalProcessSpawner-1.3.0\n[I 2021-03-26 22:15:12.762 JupyterHub app:2380] Using Proxy: jupyterhub.proxy.ConfigurableHTTPProxy-1.3.0\n[D 2021-03-26 22:15:12.763 JupyterHub app:2312] Could not load pycurl: No module named 'pycurl'\n    pycurl is recommended if you have a large number of users.\n[D 2021-03-26 22:15:12.764 JupyterHub app:1460] Generating new cookie_secret\n[I 2021-03-26 22:15:12.764 JupyterHub app:1465] Writing cookie_secret to /home/jovyan/jupyterhub_cookie_secret\n[D 2021-03-26 22:15:12.764 JupyterHub app:1587] Connecting to db: sqlite:///jupyterhub.sqlite\n[D 2021-03-26 22:15:12.778 JupyterHub orm:784] Stamping empty database with alembic revision 4dc2d5a8c53c\n[I 2021-03-26 22:15:12.781 alembic.runtime.migration migration:163] Context impl SQLiteImpl.\n[I 2021-03-26 22:15:12.781 alembic.runtime.migration migration:170] Will assume non-transactional DDL.\n[I 2021-03-26 22:15:12.787 alembic.runtime.migration migration:555] Running stamp_revision  -> 4dc2d5a8c53c\n[D 2021-03-26 22:15:12.787 alembic.runtime.migration migration:751] new branch insert 4dc2d5a8c53c\n[I 2021-03-26 22:15:12.811 JupyterHub proxy:460] Generating new CONFIGPROXY_AUTH_TOKEN\n[W 2021-03-26 22:15:12.812 JupyterHub app:1695] No admin users, admin interface will be unavailable.\n[W 2021-03-26 22:15:12.812 JupyterHub app:1697] Add any administrative users to `c.Authenticator.admin_users` in config.\n[I 2021-03-26 22:15:12.812 JupyterHub app:1726] Not using allowed_users. Any authenticated user will be allowed.\n[D 2021-03-26 22:15:12.875 JupyterHub app:1877] Purging expired APITokens\n[D 2021-03-26 22:15:12.879 JupyterHub app:1877] Purging expired OAuthAccessTokens\n[D 2021-03-26 22:15:12.882 JupyterHub app:1877] Purging expired OAuthCodes\n[D 2021-03-26 22:15:12.896 JupyterHub app:2004] Initializing spawners\n[D 2021-03-26 22:15:12.898 JupyterHub app:2137] Loaded users:\n    \n[I 2021-03-26 22:15:12.898 JupyterHub app:2419] Initialized 0 spawners in 0.002 seconds\n[W 2021-03-26 22:15:12.901 JupyterHub proxy:663] Running JupyterHub without SSL.  I hope there is SSL termination happening somewhere else...\n[I 2021-03-26 22:15:12.901 JupyterHub proxy:666] Starting proxy @ http://:8000/user/manics-cd04d42b-0430ee33349cd49-unoobfdn/proxy/absolute/8000/\n[D 2021-03-26 22:15:12.901 JupyterHub proxy:667] Proxy cmd: ['configurable-http-proxy', '--ip', '', '--port', '8000', '--api-ip', '127.0.0.1', '--api-port', '8001', '--error-target', 'http://127.0.0.1:8081/user/manics-cd04d42b-0430ee33349cd49-unoobfdn/proxy/absolute/8000/hub/error']\n[D 2021-03-26 22:15:12.904 JupyterHub proxy:574] Writing proxy pid file: jupyterhub-proxy.pid\n22:15:13.062 [ConfigProxy] \u001b[32minfo\u001b[39m: Proxying http://*:8000 to (no default)\n22:15:13.066 [ConfigProxy] \u001b[32minfo\u001b[39m: Proxy API at http://127.0.0.1:8001/api/routes\n[D 2021-03-26 22:15:13.244 JupyterHub proxy:702] Proxy started and appears to be up\n[D 2021-03-26 22:15:13.247 JupyterHub proxy:795] Proxy: Fetching GET http://127.0.0.1:8001/api/routes\n[I 2021-03-26 22:15:13.259 JupyterHub app:2664] Hub API listening on http://127.0.0.1:8081/user/manics-cd04d42b-0430ee33349cd49-unoobfdn/proxy/absolute/8000/hub/\n[D 2021-03-26 22:15:13.259 JupyterHub proxy:314] Fetching routes to check\n[D 2021-03-26 22:15:13.259 JupyterHub proxy:795] Proxy: Fetching GET http://127.0.0.1:8001/api/routes\n22:15:13.259 [ConfigProxy] \u001b[32minfo\u001b[39m: 200 GET /api/routes \n22:15:13.261 [ConfigProxy] \u001b[32minfo\u001b[39m: 200 GET /api/routes \n[I 2021-03-26 22:15:13.261 JupyterHub proxy:319] Checking routes\n[I 2021-03-26 22:15:13.261 JupyterHub proxy:399] Adding default route for Hub: /user/manics-cd04d42b-0430ee33349cd49-unoobfdn/proxy/absolute/8000/ => http://127.0.0.1:8081\n[D 2021-03-26 22:15:13.261 JupyterHub proxy:795] Proxy: Fetching POST http://127.0.0.1:8001/api/routes/user/manics-cd04d42b-0430ee33349cd49-unoobfdn/proxy/absolute/8000\n22:15:13.264 [ConfigProxy] \u001b[32minfo\u001b[39m: Adding route /user/manics-cd04d42b-0430ee33349cd49-unoobfdn/proxy/absolute/8000 -> http://127.0.0.1:8081\n22:15:13.265 [ConfigProxy] \u001b[32minfo\u001b[39m: Route added /user/manics-cd04d42b-0430ee33349cd49-unoobfdn/proxy/absolute/8000 -> http://127.0.0.1:8081\n22:15:13.265 [ConfigProxy] \u001b[32minfo\u001b[39m: 201 POST /api/routes/user/manics-cd04d42b-0430ee33349cd49-unoobfdn/proxy/absolute/8000 \n[I 2021-03-26 22:15:13.265 JupyterHub app:2739] JupyterHub is now running at http://:8000/user/manics-cd04d42b-0430ee33349cd49-unoobfdn/proxy/absolute/8000/\n[D 2021-03-26 22:15:13.266 JupyterHub app:2342] It took 0.540 seconds for the Hub to start\n[I 2021-03-26 22:15:21.696 JupyterHub log:181] 302 GET /user/manics-cd04d42b-0430ee33349cd49-unoobfdn/proxy/absolute/8000 -> /user/manics-cd04d42b-0430ee33349cd49-unoobfdn/proxy/absolute/8000/hub/ (@90.209.200.59) 1.13ms\n[I 2021-03-26 22:15:21.750 JupyterHub log:181] 302 GET /user/manics-cd04d42b-0430ee33349cd49-unoobfdn/proxy/absolute/8000/hub/ -> /user/manics-cd04d42b-0430ee33349cd49-unoobfdn/proxy/absolute/8000/hub/login?next=%2Fuser%2Fmanics-cd04d42b-0430ee33349cd49-unoobfdn%2Fproxy%2Fabsolute%2F8000%2Fhub%2F (@90.209.200.59) 0.87ms\n[I 2021-03-26 22:15:21.825 JupyterHub log:181] 200 GET /user/manics-cd04d42b-0430ee33349cd49-unoobfdn/proxy/absolute/8000/hub/login?next=%2Fuser%2Fmanics-cd04d42b-0430ee33349cd49-unoobfdn%2Fproxy%2Fabsolute%2F8000%2Fhub%2F (@90.209.200.59) 27.99ms\n[D 2021-03-26 22:15:21.957 JupyterHub log:181] 200 GET /user/manics-cd04d42b-0430ee33349cd49-unoobfdn/proxy/absolute/8000/hub/static/css/style.min.css?v=a690a7f26f8eda24b6043d972eda379b7f3df65dcb4832fbec0d72d1585b6bdf2bd15c7f3ec4597b79a7c91798181ba23b9a0204da8165b21ff81cd85f89a933 (@90.209.200.59) 1.28ms\n[D 2021-03-26 22:15:21.959 JupyterHub log:181] 200 GET /user/manics-cd04d42b-0430ee33349cd49-unoobfdn/proxy/absolute/8000/hub/static/components/requirejs/require.js?v=bd1aa102bdb0b27fbf712b32cfcd29b016c272acf3d864ee8469376eaddd032cadcf827ff17c05a8c8e20061418fe58cf79947049f5c0dff3b4f73fcc8cad8ec (@90.209.200.59) 0.75ms\n[D 2021-03-26 22:15:21.970 JupyterHub log:181] 200 GET /user/manics-cd04d42b-0430ee33349cd49-unoobfdn/proxy/absolute/8000/hub/static/components/jquery/dist/jquery.min.js?v=6cb4f4426f559c06190df97229c05a436820d21498350ac9f118a5625758435171418a022ed523bae46e668f9f8ea871feab6aff58ad2740b67a30f196d65516 (@90.209.200.59) 0.69ms\n[D 2021-03-26 22:15:21.972 JupyterHub log:181] 200 GET /user/manics-cd04d42b-0430ee33349cd49-unoobfdn/proxy/absolute/8000/hub/static/components/bootstrap/dist/js/bootstrap.min.js?v=a014e9acc78d10a0a7a9fbaa29deac6ef17398542d9574b77b40bf446155d210fa43384757e3837da41b025998ebfab4b9b6f094033f9c226392b800df068bce (@90.209.200.59) 0.67ms\n[D 2021-03-26 22:15:21.973 JupyterHub log:181] 200 GET /user/manics-cd04d42b-0430ee33349cd49-unoobfdn/proxy/absolute/8000/hub/logo (@90.209.200.59) 0.77ms\n[D 2021-03-26 22:15:22.134 JupyterHub log:181] 200 GET /user/manics-cd04d42b-0430ee33349cd49-unoobfdn/proxy/absolute/8000/hub/static/favicon.ico?v=fde5757cd3892b979919d3b1faa88a410f28829feb5ba22b6cf069f2c6c98675fceef90f932e49b510e74d65c681d5846b943e7f7cc1b41867422f0481085c1f (@90.209.200.59) 0.81ms\n[D 2021-03-26 22:15:24.644 JupyterHub log:181] 200 GET /user/manics-cd04d42b-0430ee33349cd49-unoobfdn/proxy/absolute/8000/hub/static/components/font-awesome/fonts/fontawesome-webfont.woff2?v=4.7.0 (@90.209.200.59) 1.08ms\n[D 2021-03-26 22:15:24.700 JupyterHub base:521] Setting cookie jupyterhub-session-id: {'httponly': True, 'secure': True}\n[D 2021-03-26 22:15:24.700 JupyterHub base:525] Setting cookie for test: jupyterhub-hub-login\n[D 2021-03-26 22:15:24.700 JupyterHub base:521] Setting cookie jupyterhub-hub-login: {'httponly': True, 'secure': True, 'path': '/user/manics-cd04d42b-0430ee33349cd49-unoobfdn/proxy/absolute/8000/hub/'}\n[I 2021-03-26 22:15:24.701 JupyterHub base:757] User logged in: test\n[I 2021-03-26 22:15:24.708 JupyterHub log:181] 302 POST /user/manics-cd04d42b-0430ee33349cd49-unoobfdn/proxy/absolute/8000/hub/login?next=%2Fuser%2Fmanics-cd04d42b-0430ee33349cd49-unoobfdn%2Fproxy%2Fabsolute%2F8000%2Fhub%2F -> /user/manics-cd04d42b-0430ee33349cd49-unoobfdn/proxy/absolute/8000/hub/ (test@90.209.200.59) 51.04ms\n[D 2021-03-26 22:15:24.763 JupyterHub base:283] Recording first activity for <User(test 0/1 running)>\n[D 2021-03-26 22:15:24.769 JupyterHub user:288] Creating <class 'jupyterhub.spawner.SimpleLocalProcessSpawner'> for test:\n[I 2021-03-26 22:15:24.770 JupyterHub log:181] 302 GET /user/manics-cd04d42b-0430ee33349cd49-unoobfdn/proxy/absolute/8000/hub/ -> /user/manics-cd04d42b-0430ee33349cd49-unoobfdn/proxy/absolute/8000/hub/spawn (test@90.209.200.59) 18.24ms\n[D 2021-03-26 22:15:24.818 JupyterHub pages:218] Triggering spawn with default options for test\n[D 2021-03-26 22:15:24.821 JupyterHub base:875] Initiating spawn for test\n[D 2021-03-26 22:15:24.821 JupyterHub base:882] 0/100 concurrent spawns\n[D 2021-03-26 22:15:24.822 JupyterHub base:887] 0 active servers\n[D 2021-03-26 22:15:24.845 JupyterHub user:602] Calling Spawner.start for test\n[I 2021-03-26 22:15:24.846 JupyterHub spawner:1451] Spawning jupyterhub-singleuser --port=42459\n[D 2021-03-26 22:15:24.858 JupyterHub spawner:1147] Polling subprocess every 30s\n[I 2021-03-26 22:15:25.460 SingleUserNotebookApp notebookapp:1593] Authentication of /metrics is OFF, since other authentication is disabled.\n[I 2021-03-26 22:15:25.686 SingleUserNotebookApp notebookapp:2082] Will shut down after 600 seconds with no kernels or terminals.\n[I 2021-03-26 22:15:25.686 SingleUserNotebookApp mixins:557] Starting jupyterhub-singleuser server version 1.3.0\n[I 2021-03-26 22:15:25.689 JupyterHub log:181] 200 GET /user/manics-cd04d42b-0430ee33349cd49-unoobfdn/proxy/absolute/8000/hub/api (@127.0.0.1) 0.94ms\n[I 2021-03-26 22:15:25.689 SingleUserNotebookApp notebookapp:2302] Serving notebooks from local directory: /tmp/test\n[I 2021-03-26 22:15:25.689 SingleUserNotebookApp notebookapp:2302] Jupyter Notebook 6.3.0 is running at:\n[I 2021-03-26 22:15:25.690 SingleUserNotebookApp notebookapp:2302] http://127.0.0.1:42459/user/manics-cd04d42b-0430ee33349cd49-unoobfdn/proxy/absolute/8000/user/test/\n[I 2021-03-26 22:15:25.690 SingleUserNotebookApp notebookapp:2303] Use Control-C to stop this server and shut down all kernels (twice to skip confirmation).\n[I 2021-03-26 22:15:25.693 SingleUserNotebookApp mixins:538] Updating Hub with activity every 300 seconds\n[D 2021-03-26 22:15:25.698 JupyterHub base:283] Recording first activity for <APIToken('d298...', user='test')>\n[D 2021-03-26 22:15:25.705 JupyterHub users:766] Activity for user test: 2021-03-26T22:15:25.460352Z\n[D 2021-03-26 22:15:25.705 JupyterHub users:787] Activity on server test/: 2021-03-26T22:15:25.460352Z\n[I 2021-03-26 22:15:25.708 JupyterHub log:181] 200 POST /user/manics-cd04d42b-0430ee33349cd49-unoobfdn/proxy/absolute/8000/hub/api/users/test/activity (test@127.0.0.1) 13.67ms\n[I 2021-03-26 22:15:25.820 JupyterHub log:181] 302 GET /user/manics-cd04d42b-0430ee33349cd49-unoobfdn/proxy/absolute/8000/hub/spawn -> /user/manics-cd04d42b-0430ee33349cd49-unoobfdn/proxy/absolute/8000/hub/spawn-pending/test (test@90.209.200.59) 1004.74ms\n[I 2021-03-26 22:15:25.963 JupyterHub pages:402] test is pending spawn\n[I 2021-03-26 22:15:25.967 JupyterHub log:181] 200 GET /user/manics-cd04d42b-0430ee33349cd49-unoobfdn/proxy/absolute/8000/hub/spawn-pending/test (test@90.209.200.59) 7.06ms\n[I 2021-03-26 22:15:26.033 SingleUserNotebookApp log:181] 302 GET /user/manics-cd04d42b-0430ee33349cd49-unoobfdn/proxy/absolute/8000/user/test/ -> /user/manics-cd04d42b-0430ee33349cd49-unoobfdn/proxy/absolute/8000/user/test/tree? (@127.0.0.1) 0.57ms\n[D 2021-03-26 22:15:26.033 JupyterHub utils:224] Server at http://127.0.0.1:42459/user/manics-cd04d42b-0430ee33349cd49-unoobfdn/proxy/absolute/8000/user/test/ responded with 302\n[D 2021-03-26 22:15:26.033 JupyterHub _version:77] jupyterhub and jupyterhub-singleuser both on version 1.3.0\n[I 2021-03-26 22:15:26.034 JupyterHub base:905] User test took 1.212 seconds to start\n[I 2021-03-26 22:15:26.034 JupyterHub proxy:261] Adding user test to proxy /user/manics-cd04d42b-0430ee33349cd49-unoobfdn/proxy/absolute/8000/user/test/ => http://127.0.0.1:42459\n[D 2021-03-26 22:15:26.034 JupyterHub proxy:795] Proxy: Fetching POST http://127.0.0.1:8001/api/routes/user/manics-cd04d42b-0430ee33349cd49-unoobfdn/proxy/absolute/8000/user/test\n22:15:26.037 [ConfigProxy] \u001b[32minfo\u001b[39m: Adding route /user/manics-cd04d42b-0430ee33349cd49-unoobfdn/proxy/absolute/8000/user/test -> http://127.0.0.1:42459\n22:15:26.037 [ConfigProxy] \u001b[32minfo\u001b[39m: Route added /user/manics-cd04d42b-0430ee33349cd49-unoobfdn/proxy/absolute/8000/user/test -> http://127.0.0.1:42459\n22:15:26.037 [ConfigProxy] \u001b[32minfo\u001b[39m: 201 POST /api/routes/user/manics-cd04d42b-0430ee33349cd49-unoobfdn/proxy/absolute/8000/user/test \n[D 2021-03-26 22:15:26.117 JupyterHub log:181] 304 GET /user/manics-cd04d42b-0430ee33349cd49-unoobfdn/proxy/absolute/8000/hub/logo (@90.209.200.59) 0.89ms\n[I 2021-03-26 22:15:26.135 JupyterHub users:626] Server test is already started\n[I 2021-03-26 22:15:26.136 JupyterHub log:181] 200 GET /user/manics-cd04d42b-0430ee33349cd49-unoobfdn/proxy/absolute/8000/hub/api/users/test/server/progress (test@90.209.200.59) 3.53ms\n[I 2021-03-26 22:15:26.192 JupyterHub log:181] 302 GET /user/manics-cd04d42b-0430ee33349cd49-unoobfdn/proxy/absolute/8000/hub/spawn-pending/test -> /user/manics-cd04d42b-0430ee33349cd49-unoobfdn/proxy/absolute/8000/user/test/ (test@90.209.200.59) 1.69ms\n[I 2021-03-26 22:15:26.235 SingleUserNotebookApp log:181] 302 GET /user/manics-cd04d42b-0430ee33349cd49-unoobfdn/proxy/absolute/8000/user/test/ -> /user/manics-cd04d42b-0430ee33349cd49-unoobfdn/proxy/absolute/8000/user/test/tree? (@90.209.200.59) 0.62ms\n[I 2021-03-26 22:15:26.287 SingleUserNotebookApp log:181] 302 GET /user/manics-cd04d42b-0430ee33349cd49-unoobfdn/proxy/absolute/8000/user/test/tree -> /user/manics-cd04d42b-0430ee33349cd49-unoobfdn/proxy/absolute/8000/hub/api/oauth2/authorize?client_id=jupyterhub-user-test&redirect_uri=%2Fuser%2Fmanics-cd04d42b-0430ee33349cd49-unoobfdn%2Fproxy%2Fabsolute%2F8000%2Fuser%2Ftest%2Foauth_callback&response_type=code&state=[secret] (@90.209.200.59) 1.88ms\n[D 2021-03-26 22:15:26.339 JupyterHub provider:409] Validating client id jupyterhub-user-test\n[D 2021-03-26 22:15:26.340 JupyterHub provider:487] validate_redirect_uri: client_id=jupyterhub-user-test, redirect_uri=/user/manics-cd04d42b-0430ee33349cd49-unoobfdn/proxy/absolute/8000/user/test/oauth_callback\n[D 2021-03-26 22:15:26.342 JupyterHub auth:247] Skipping oauth confirmation for <User(test 1/1 running)> accessing Server at /user/manics-cd04d42b-0430ee33349cd49-unoobfdn/proxy/absolute/8000/user/test/\n[D 2021-03-26 22:15:26.342 JupyterHub provider:409] Validating client id jupyterhub-user-test\n[D 2021-03-26 22:15:26.343 JupyterHub provider:487] validate_redirect_uri: client_id=jupyterhub-user-test, redirect_uri=/user/manics-cd04d42b-0430ee33349cd49-unoobfdn/proxy/absolute/8000/user/test/oauth_callback\n[D 2021-03-26 22:15:26.344 JupyterHub provider:236] Saving authorization code jupyterhub-user-test, QsT..., (), {}\n[I 2021-03-26 22:15:26.381 JupyterHub log:181] 302 GET /user/manics-cd04d42b-0430ee33349cd49-unoobfdn/proxy/absolute/8000/hub/api/oauth2/authorize?client_id=jupyterhub-user-test&redirect_uri=%2Fuser%2Fmanics-cd04d42b-0430ee33349cd49-unoobfdn%2Fproxy%2Fabsolute%2F8000%2Fuser%2Ftest%2Foauth_callback&response_type=code&state=[secret] -> /user/manics-cd04d42b-0430ee33349cd49-unoobfdn/proxy/absolute/8000/user/test/oauth_callback?code=[secret]&state=[secret] (test@90.209.200.59) 43.95ms\n[D 2021-03-26 22:15:26.457 JupyterHub provider:55] authenticate_client <oauthlib.Request SANITIZED>\n[D 2021-03-26 22:15:26.463 JupyterHub provider:114] confirm_redirect_uri: client_id=jupyterhub-user-test, redirect_uri=/user/manics-cd04d42b-0430ee33349cd49-unoobfdn/proxy/absolute/8000/user/test/oauth_callback\n[D 2021-03-26 22:15:26.464 JupyterHub provider:334] Saving bearer token {'access_token': 'REDACTED', 'expires_in': 3600, 'token_type': 'Bearer', 'scope': 'identify', 'refresh_token': 'REDACTED'}\n[D 2021-03-26 22:15:26.469 JupyterHub provider:189] Deleting oauth code QsT... for jupyterhub-user-test\n[I 2021-03-26 22:15:26.476 JupyterHub log:181] 200 POST /user/manics-cd04d42b-0430ee33349cd49-unoobfdn/proxy/absolute/8000/hub/api/oauth2/token (test@127.0.0.1) 21.68ms\n[I 2021-03-26 22:15:26.490 SingleUserNotebookApp auth:983] Logged-in user {'kind': 'user', 'name': 'test', 'admin': False, 'groups': [], 'server': '/user/manics-cd04d42b-0430ee33349cd49-unoobfdn/proxy/absolute/8000/user/test/', 'pending': None, 'created': '2021-03-26T22:15:24.664451Z', 'last_activity': '2021-03-26T22:15:26.484494Z', 'servers': None}\n[I 2021-03-26 22:15:26.491 SingleUserNotebookApp log:181] 302 GET /user/manics-cd04d42b-0430ee33349cd49-unoobfdn/proxy/absolute/8000/user/test/oauth_callback?code=[secret]&state=[secret] -> /user/manics-cd04d42b-0430ee33349cd49-unoobfdn/proxy/absolute/8000/user/test/tree (@90.209.200.59) 47.41ms\n[I 2021-03-26 22:15:26.491 JupyterHub log:181] 200 GET /user/manics-cd04d42b-0430ee33349cd49-unoobfdn/proxy/absolute/8000/hub/api/authorizations/token/[secret] (test@127.0.0.1) 12.08ms\n[I 2021-03-26 22:15:26.616 SingleUserNotebookApp log:181] 200 GET /user/manics-cd04d42b-0430ee33349cd49-unoobfdn/proxy/absolute/8000/user/test/tree (test@90.209.200.59) 57.70ms\n[D 2021-03-26 22:15:26.899 JupyterHub log:181] 304 GET /user/manics-cd04d42b-0430ee33349cd49-unoobfdn/proxy/absolute/8000/hub/logo (@90.209.200.59) 0.82ms\n[I 2021-03-26 22:15:27.073 SingleUserNotebookApp log:181] 200 GET /user/manics-cd04d42b-0430ee33349cd49-unoobfdn/proxy/absolute/8000/user/test/api/config/tree?_=1616796926967 (test@90.209.200.59) 3.44ms\n[I 2021-03-26 22:15:27.076 SingleUserNotebookApp log:181] 200 GET /user/manics-cd04d42b-0430ee33349cd49-unoobfdn/proxy/absolute/8000/user/test/api/config/common?_=1616796926968 (test@90.209.200.59) 5.33ms\n[I 2021-03-26 22:15:27.087 SingleUserNotebookApp log:181] 200 GET /user/manics-cd04d42b-0430ee33349cd49-unoobfdn/proxy/absolute/8000/user/test/api/terminals?_=1616796926969 (test@90.209.200.59) 0.86ms\n[I 2021-03-26 22:15:27.093 SingleUserNotebookApp log:181] 200 GET /user/manics-cd04d42b-0430ee33349cd49-unoobfdn/proxy/absolute/8000/user/test/api/kernelspecs (test@90.209.200.59) 3.59ms\n[I 2021-03-26 22:15:27.095 SingleUserNotebookApp log:181] 200 GET /user/manics-cd04d42b-0430ee33349cd49-unoobfdn/proxy/absolute/8000/user/test/api/sessions?_=1616796926970 (test@90.209.200.59) 1.72ms\n[I 2021-03-26 22:15:27.097 SingleUserNotebookApp log:181] 200 GET /user/manics-cd04d42b-0430ee33349cd49-unoobfdn/proxy/absolute/8000/user/test/api/terminals?_=1616796926971 (test@90.209.200.59) 2.69ms\n[I 2021-03-26 22:15:27.154 SingleUserNotebookApp log:181] 200 GET /user/manics-cd04d42b-0430ee33349cd49-unoobfdn/proxy/absolute/8000/user/test/api/contents?type=directory&_=1616796926972 (test@90.209.200.59) 1.91ms\n",
          "output_type": "stream"
        }
      ]
    },
    {
      "cell_type": "code",
      "source": "",
      "metadata": {},
      "execution_count": null,
      "outputs": []
    }
  ]
}
