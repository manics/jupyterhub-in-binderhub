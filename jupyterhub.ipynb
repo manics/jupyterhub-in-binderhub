{
  "metadata": {
    "kernelspec": {
      "display_name": "Bash",
      "language": "bash",
      "name": "bash"
    },
    "language_info": {
      "codemirror_mode": "shell",
      "file_extension": ".sh",
      "mimetype": "text/x-sh",
      "name": "bash"
    }
  },
  "nbformat_minor": 5,
  "nbformat": 4,
  "cells": [
    {
      "cell_type": "markdown",
      "source": "# JupyterHub in BinderHub\n\nHave you ever wanted to run JupyterHub inside BinderHub? No? Didn't think so. But if you did.... you can try this notebook that uses a [Jupyter Bash kernel](https://pypi.org/project/bash_kernel/).",
      "metadata": {}
    },
    {
      "cell_type": "markdown",
      "source": "First create a new Python environment for JupyterHub",
      "metadata": {}
    },
    {
      "cell_type": "code",
      "source": "python3 -mvenv ~/venv",
      "metadata": {
        "trusted": true
      },
      "execution_count": 1,
      "outputs": []
    },
    {
      "cell_type": "markdown",
      "source": "and activate it",
      "metadata": {}
    },
    {
      "cell_type": "code",
      "source": ". ~/venv/bin/activate",
      "metadata": {
        "trusted": true
      },
      "execution_count": 2,
      "outputs": [
        {
          "name": "stdout",
          "text": "(venv) ",
          "output_type": "stream"
        },
        {
          "ename": "",
          "evalue": "1",
          "traceback": [],
          "output_type": "error"
        }
      ]
    },
    {
      "cell_type": "markdown",
      "source": "Next install JupyterHub. To keep things simple we'll use the same virtualenv for the user, so also install Jupyter Notebook",
      "metadata": {}
    },
    {
      "cell_type": "code",
      "source": "pip install jupyterhub notebook",
      "metadata": {
        "trusted": true
      },
      "execution_count": 3,
      "outputs": [
        {
          "name": "stdout",
          "text": "Collecting jupyterhub\n  Using cached jupyterhub-1.3.0-py3-none-any.whl (3.6 MB)\nCollecting notebook\n  Using cached notebook-6.3.0-py3-none-any.whl (9.5 MB)\nCollecting oauthlib>=3.0\n  Using cached oauthlib-3.1.0-py2.py3-none-any.whl (147 kB)\nCollecting traitlets>=4.3.2\n  Using cached traitlets-5.0.5-py3-none-any.whl (100 kB)\nCollecting requests\n  Using cached requests-2.25.1-py2.py3-none-any.whl (61 kB)\nCollecting jinja2>=2.11.0\n  Using cached Jinja2-2.11.3-py2.py3-none-any.whl (125 kB)\nCollecting entrypoints\n  Using cached entrypoints-0.3-py2.py3-none-any.whl (11 kB)\nCollecting jupyter-telemetry>=0.1.0\n  Using cached jupyter_telemetry-0.1.0-py3-none-any.whl (7.1 kB)\nCollecting pamela; sys_platform != \"win32\"\n  Using cached pamela-1.0.0-py2.py3-none-any.whl (5.8 kB)\nCollecting async-generator>=1.9\n  Using cached async_generator-1.10-py3-none-any.whl (18 kB)\nCollecting prometheus-client>=0.4.0\n  Using cached prometheus_client-0.9.0-py2.py3-none-any.whl (53 kB)\nCollecting alembic\n  Using cached alembic-1.5.8-py2.py3-none-any.whl (159 kB)\nCollecting python-dateutil\n  Using cached python_dateutil-2.8.1-py2.py3-none-any.whl (227 kB)\nCollecting SQLAlchemy>=1.1\n  Using cached SQLAlchemy-1.4.2-cp37-cp37m-manylinux2014_x86_64.whl (1.5 MB)\nCollecting certipy>=0.1.2\n  Using cached certipy-0.1.3-py3-none-any.whl (22 kB)\nCollecting tornado>=5.1\n  Using cached tornado-6.1-cp37-cp37m-manylinux2010_x86_64.whl (428 kB)\nCollecting jupyter-client>=5.3.4\n  Using cached jupyter_client-6.1.12-py3-none-any.whl (112 kB)\nCollecting nbconvert\n  Using cached nbconvert-6.0.7-py3-none-any.whl (552 kB)\nCollecting ipython-genutils\n  Using cached ipython_genutils-0.2.0-py2.py3-none-any.whl (26 kB)\nCollecting terminado>=0.8.3\n  Using cached terminado-0.9.3-py3-none-any.whl (14 kB)\nCollecting ipykernel\n  Using cached ipykernel-5.5.0-py3-none-any.whl (120 kB)\nCollecting pyzmq>=17\n  Using cached pyzmq-22.0.3-cp37-cp37m-manylinux1_x86_64.whl (1.1 MB)\nCollecting Send2Trash>=1.5.0\n  Using cached Send2Trash-1.5.0-py3-none-any.whl (12 kB)\nCollecting nbformat\n  Using cached nbformat-5.1.2-py3-none-any.whl (113 kB)\nCollecting jupyter-core>=4.6.1\n  Using cached jupyter_core-4.7.1-py3-none-any.whl (82 kB)\nCollecting argon2-cffi\n  Using cached argon2_cffi-20.1.0-cp35-abi3-manylinux1_x86_64.whl (97 kB)\nCollecting idna<3,>=2.5\n  Using cached idna-2.10-py2.py3-none-any.whl (58 kB)\nCollecting urllib3<1.27,>=1.21.1\n  Using cached urllib3-1.26.4-py2.py3-none-any.whl (153 kB)\nCollecting chardet<5,>=3.0.2\n  Using cached chardet-4.0.0-py2.py3-none-any.whl (178 kB)\nCollecting certifi>=2017.4.17\n  Using cached certifi-2020.12.5-py2.py3-none-any.whl (147 kB)\nCollecting MarkupSafe>=0.23\n  Using cached MarkupSafe-1.1.1-cp37-cp37m-manylinux2010_x86_64.whl (33 kB)\nCollecting jsonschema\n  Using cached jsonschema-3.2.0-py2.py3-none-any.whl (56 kB)\nCollecting ruamel.yaml\n  Using cached ruamel.yaml-0.16.13-py2.py3-none-any.whl (111 kB)\nCollecting python-json-logger\n  Using cached python-json-logger-2.0.1.tar.gz (9.1 kB)\nCollecting python-editor>=0.3\n  Using cached python_editor-1.0.4-py3-none-any.whl (4.9 kB)\nCollecting Mako\n  Using cached Mako-1.1.4-py2.py3-none-any.whl (75 kB)\nCollecting six>=1.5\n  Using cached six-1.15.0-py2.py3-none-any.whl (10 kB)\nCollecting greenlet!=0.4.17; python_version >= \"3\"\n  Using cached greenlet-1.0.0-cp37-cp37m-manylinux2010_x86_64.whl (160 kB)\nCollecting importlib-metadata; python_version < \"3.8\"\n  Using cached importlib_metadata-3.7.3-py3-none-any.whl (12 kB)\nCollecting pyopenssl\n  Using cached pyOpenSSL-20.0.1-py2.py3-none-any.whl (54 kB)\nCollecting pygments>=2.4.1\n  Using cached Pygments-2.8.1-py3-none-any.whl (983 kB)\nCollecting mistune<2,>=0.8.1\n  Using cached mistune-0.8.4-py2.py3-none-any.whl (16 kB)\nCollecting nbclient<0.6.0,>=0.5.0\n  Using cached nbclient-0.5.3-py3-none-any.whl (82 kB)\nCollecting pandocfilters>=1.4.1\n  Using cached pandocfilters-1.4.3.tar.gz (16 kB)\nCollecting testpath\n  Using cached testpath-0.4.4-py2.py3-none-any.whl (163 kB)\nCollecting bleach\n  Using cached bleach-3.3.0-py2.py3-none-any.whl (283 kB)\nCollecting jupyterlab-pygments\n  Using cached jupyterlab_pygments-0.1.2-py2.py3-none-any.whl (4.6 kB)\nCollecting defusedxml\n  Using cached defusedxml-0.7.1-py2.py3-none-any.whl (25 kB)\nCollecting ptyprocess; os_name != \"nt\"\n  Using cached ptyprocess-0.7.0-py2.py3-none-any.whl (13 kB)\nCollecting ipython>=5.0.0\n  Using cached ipython-7.21.0-py3-none-any.whl (784 kB)\nCollecting cffi>=1.0.0\n  Using cached cffi-1.14.5-cp37-cp37m-manylinux1_x86_64.whl (402 kB)\nRequirement already satisfied: setuptools in ./venv/lib/python3.7/site-packages (from jsonschema->jupyter-telemetry>=0.1.0->jupyterhub) (47.1.0)\nCollecting attrs>=17.4.0\n  Using cached attrs-20.3.0-py2.py3-none-any.whl (49 kB)\nCollecting pyrsistent>=0.14.0\n  Using cached pyrsistent-0.17.3.tar.gz (106 kB)\nCollecting ruamel.yaml.clib>=0.1.2; platform_python_implementation == \"CPython\" and python_version < \"3.10\"\n  Using cached ruamel.yaml.clib-0.2.2-cp37-cp37m-manylinux1_x86_64.whl (547 kB)\nCollecting typing-extensions>=3.6.4; python_version < \"3.8\"\n  Using cached typing_extensions-3.7.4.3-py3-none-any.whl (22 kB)\nCollecting zipp>=0.5\n  Using cached zipp-3.4.1-py3-none-any.whl (5.2 kB)\nCollecting cryptography>=3.2\n  Using cached cryptography-3.4.6-cp36-abi3-manylinux2014_x86_64.whl (3.2 MB)\nCollecting nest-asyncio\n  Using cached nest_asyncio-1.5.1-py3-none-any.whl (5.0 kB)\nCollecting webencodings\n  Using cached webencodings-0.5.1-py2.py3-none-any.whl (11 kB)\nCollecting packaging\n  Using cached packaging-20.9-py2.py3-none-any.whl (40 kB)\nCollecting jedi>=0.16\n  Using cached jedi-0.18.0-py2.py3-none-any.whl (1.4 MB)\nCollecting decorator\n  Using cached decorator-4.4.2-py2.py3-none-any.whl (9.2 kB)\nCollecting pickleshare\n  Using cached pickleshare-0.7.5-py2.py3-none-any.whl (6.9 kB)\nCollecting pexpect>4.3; sys_platform != \"win32\"\n  Using cached pexpect-4.8.0-py2.py3-none-any.whl (59 kB)\nCollecting backcall\n  Using cached backcall-0.2.0-py2.py3-none-any.whl (11 kB)\nCollecting prompt-toolkit!=3.0.0,!=3.0.1,<3.1.0,>=2.0.0\n  Using cached prompt_toolkit-3.0.18-py3-none-any.whl (367 kB)\nCollecting pycparser\n  Using cached pycparser-2.20-py2.py3-none-any.whl (112 kB)\nCollecting pyparsing>=2.0.2\n  Using cached pyparsing-2.4.7-py2.py3-none-any.whl (67 kB)\nCollecting parso<0.9.0,>=0.8.0\n  Using cached parso-0.8.1-py2.py3-none-any.whl (93 kB)\nCollecting wcwidth\n  Using cached wcwidth-0.2.5-py2.py3-none-any.whl (30 kB)\nUsing legacy setup.py install for python-json-logger, since package 'wheel' is not installed.\nUsing legacy setup.py install for pandocfilters, since package 'wheel' is not installed.\nUsing legacy setup.py install for pyrsistent, since package 'wheel' is not installed.\nInstalling collected packages: oauthlib, ipython-genutils, traitlets, idna, urllib3, chardet, certifi, requests, MarkupSafe, jinja2, entrypoints, attrs, six, typing-extensions, zipp, importlib-metadata, pyrsistent, jsonschema, ruamel.yaml.clib, ruamel.yaml, python-json-logger, jupyter-telemetry, pamela, async-generator, prometheus-client, greenlet, SQLAlchemy, python-editor, python-dateutil, Mako, alembic, pycparser, cffi, cryptography, pyopenssl, certipy, tornado, jupyterhub, pyzmq, jupyter-core, jupyter-client, pygments, mistune, nest-asyncio, nbformat, nbclient, pandocfilters, testpath, webencodings, pyparsing, packaging, bleach, jupyterlab-pygments, defusedxml, nbconvert, ptyprocess, terminado, parso, jedi, decorator, pickleshare, pexpect, backcall, wcwidth, prompt-toolkit, ipython, ipykernel, Send2Trash, argon2-cffi, notebook\n    Running setup.py install for pyrsistent ... \u001b[?25ldone\n\u001b[?25h    Running setup.py install for python-json-logger ... \u001b[?25ldone\n\u001b[?25h    Running setup.py install for pandocfilters ... \u001b[?25ldone\n\u001b[?25hSuccessfully installed Mako-1.1.4 MarkupSafe-1.1.1 SQLAlchemy-1.4.2 Send2Trash-1.5.0 alembic-1.5.8 argon2-cffi-20.1.0 async-generator-1.10 attrs-20.3.0 backcall-0.2.0 bleach-3.3.0 certifi-2020.12.5 certipy-0.1.3 cffi-1.14.5 chardet-4.0.0 cryptography-3.4.6 decorator-4.4.2 defusedxml-0.7.1 entrypoints-0.3 greenlet-1.0.0 idna-2.10 importlib-metadata-3.7.3 ipykernel-5.5.0 ipython-7.21.0 ipython-genutils-0.2.0 jedi-0.18.0 jinja2-2.11.3 jsonschema-3.2.0 jupyter-client-6.1.12 jupyter-core-4.7.1 jupyter-telemetry-0.1.0 jupyterhub-1.3.0 jupyterlab-pygments-0.1.2 mistune-0.8.4 nbclient-0.5.3 nbconvert-6.0.7 nbformat-5.1.2 nest-asyncio-1.5.1 notebook-6.3.0 oauthlib-3.1.0 packaging-20.9 pamela-1.0.0 pandocfilters-1.4.3 parso-0.8.1 pexpect-4.8.0 pickleshare-0.7.5 prometheus-client-0.9.0 prompt-toolkit-3.0.18 ptyprocess-0.7.0 pycparser-2.20 pygments-2.8.1 pyopenssl-20.0.1 pyparsing-2.4.7 pyrsistent-0.17.3 python-dateutil-2.8.1 python-editor-1.0.4 python-json-logger-2.0.1 pyzmq-22.0.3 requests-2.25.1 ruamel.yaml-0.16.13 ruamel.yaml.clib-0.2.2 six-1.15.0 terminado-0.9.3 testpath-0.4.4 tornado-6.1 traitlets-5.0.5 typing-extensions-3.7.4.3 urllib3-1.26.4 wcwidth-0.2.5 webencodings-0.5.1 zipp-3.4.1\n\u001b[33mWARNING: You are using pip version 20.1.1; however, version 21.0.1 is available.\nYou should consider upgrading via the '/home/jovyan/venv/bin/python3 -m pip install --upgrade pip' command.\u001b[0m\n(venv) ",
          "output_type": "stream"
        },
        {
          "ename": "",
          "evalue": "1",
          "traceback": [],
          "output_type": "error"
        }
      ]
    },
    {
      "cell_type": "markdown",
      "source": "Next we need to install configurable-http-proxy from NPM",
      "metadata": {}
    },
    {
      "cell_type": "code",
      "source": "npm install -g configurable-http-proxy",
      "metadata": {
        "trusted": true
      },
      "execution_count": 4,
      "outputs": [
        {
          "name": "stdout",
          "text": "\u001b[K\u001b[?25h/srv/npm/bin/configurable-http-proxy -> /srv/npm/lib/node_modules/configurable-http-proxy/bin/configurable-http-proxy\n+ configurable-http-proxy@4.3.1\nadded 45 packages from 58 contributors in 2.612s\n(venv) ",
          "output_type": "stream"
        },
        {
          "ename": "",
          "evalue": "1",
          "traceback": [],
          "output_type": "error"
        }
      ]
    },
    {
      "cell_type": "markdown",
      "source": "Check `jupyterhub` is installed",
      "metadata": {}
    },
    {
      "cell_type": "code",
      "source": "which jupyterhub\njupyterhub --version",
      "metadata": {
        "trusted": true
      },
      "execution_count": 5,
      "outputs": [
        {
          "name": "stdout",
          "text": "/home/jovyan/venv/bin/jupyterhub\n(venv) 1.3.0\n(venv) ",
          "output_type": "stream"
        },
        {
          "ename": "",
          "evalue": "1",
          "traceback": [],
          "output_type": "error"
        }
      ]
    },
    {
      "cell_type": "markdown",
      "source": "This repo comes with [jupyter-server-proxy](https://jupyter-server-proxy.readthedocs.io/) pre-installed.\njupyter-server-proxy allows us to run a web application inside the notebook and make it available through the browser.\n\nSince we'll need to proxy JupyterHub through the notebook we have to set a custom base-url that includes the notebook prefix and the jupyter-server-proxy prefix.\nSet `PORT` to any free port, the default is `8000`.",
      "metadata": {}
    },
    {
      "cell_type": "code",
      "source": "PORT=8000\nBASEURL=\"${JUPYTERHUB_SERVICE_PREFIX:-/}proxy/absolute/$PORT\"",
      "metadata": {
        "trusted": true
      },
      "execution_count": 6,
      "outputs": [
        {
          "name": "stdout",
          "text": "(venv) (venv) ",
          "output_type": "stream"
        },
        {
          "ename": "",
          "evalue": "1",
          "traceback": [],
          "output_type": "error"
        }
      ]
    },
    {
      "cell_type": "markdown",
      "source": "We'll use the [`DummyAuthenticator`](https://jupyterhub.readthedocs.io/en/stable/reference/authenticators.html#the-dummy-authenticator) for authentication.\nNote that since we'll be running JupyterHub as a non-privileged user only the `jovyan` user will work.\n\nAfter running the next command you should be able to see JupyterHub running at `<current-host>$BASEURL`. Login as user `jovyan` and any password, and you should be in JupyterHub in BinderHub!\n\nNote you can't use `Ctrl-C` to interrupt the bash kernel in this notebook.\nInstead interrupt the kernel from the menu, or the `i i` keyboard shortcut.",
      "metadata": {}
    },
    {
      "cell_type": "code",
      "source": "echo -e \"\\n**********\\nStarting JupyterHub under <current-host>$BASEURL\\n**********\\n\\n\"\njupyterhub --base-url=\"$BASEURL\" --JupyterHub.authenticator_class=dummy --port=$PORT --debug",
      "metadata": {
        "trusted": true
      },
      "execution_count": null,
      "outputs": [
        {
          "name": "stdout",
          "text": "\n**********\nStarting JupyterHub under <current-host>/user/manics-cd04d42b-0430ee33349cd49-xfqj9xi3/proxy/absolute/8000\n**********\n\n\n(venv) [D 2021-03-24 21:30:55.905 JupyterHub application:730] Looking for jupyterhub_config in /home/jovyan\n[I 2021-03-24 21:30:55.912 JupyterHub app:2349] Running JupyterHub version 1.3.0\n[I 2021-03-24 21:30:55.912 JupyterHub app:2380] Using Authenticator: jupyterhub.auth.DummyAuthenticator-1.3.0\n[I 2021-03-24 21:30:55.912 JupyterHub app:2380] Using Spawner: jupyterhub.spawner.LocalProcessSpawner-1.3.0\n[I 2021-03-24 21:30:55.912 JupyterHub app:2380] Using Proxy: jupyterhub.proxy.ConfigurableHTTPProxy-1.3.0\n[D 2021-03-24 21:30:55.917 JupyterHub app:2312] Could not load pycurl: No module named 'pycurl'\n    pycurl is recommended if you have a large number of users.\n[D 2021-03-24 21:30:55.918 JupyterHub app:1460] Generating new cookie_secret\n[I 2021-03-24 21:30:55.918 JupyterHub app:1465] Writing cookie_secret to /home/jovyan/jupyterhub_cookie_secret\n[D 2021-03-24 21:30:55.918 JupyterHub app:1587] Connecting to db: sqlite:///jupyterhub.sqlite\n[D 2021-03-24 21:30:55.933 JupyterHub orm:784] Stamping empty database with alembic revision 4dc2d5a8c53c\n[I 2021-03-24 21:30:55.937 alembic.runtime.migration migration:163] Context impl SQLiteImpl.\n[I 2021-03-24 21:30:55.937 alembic.runtime.migration migration:170] Will assume non-transactional DDL.\n[I 2021-03-24 21:30:55.947 alembic.runtime.migration migration:555] Running stamp_revision  -> 4dc2d5a8c53c\n[D 2021-03-24 21:30:55.947 alembic.runtime.migration migration:751] new branch insert 4dc2d5a8c53c\n[I 2021-03-24 21:30:56.025 JupyterHub proxy:460] Generating new CONFIGPROXY_AUTH_TOKEN\n[W 2021-03-24 21:30:56.026 JupyterHub app:1695] No admin users, admin interface will be unavailable.\n[W 2021-03-24 21:30:56.026 JupyterHub app:1697] Add any administrative users to `c.Authenticator.admin_users` in config.\n[I 2021-03-24 21:30:56.026 JupyterHub app:1726] Not using allowed_users. Any authenticated user will be allowed.\n[D 2021-03-24 21:30:56.072 JupyterHub app:1877] Purging expired APITokens\n[D 2021-03-24 21:30:56.078 JupyterHub app:1877] Purging expired OAuthAccessTokens\n[D 2021-03-24 21:30:56.081 JupyterHub app:1877] Purging expired OAuthCodes\n[D 2021-03-24 21:30:56.096 JupyterHub app:2004] Initializing spawners\n[D 2021-03-24 21:30:56.099 JupyterHub app:2137] Loaded users:\n    \n[I 2021-03-24 21:30:56.099 JupyterHub app:2419] Initialized 0 spawners in 0.003 seconds\n[W 2021-03-24 21:30:56.103 JupyterHub proxy:663] Running JupyterHub without SSL.  I hope there is SSL termination happening somewhere else...\n[I 2021-03-24 21:30:56.103 JupyterHub proxy:666] Starting proxy @ http://:8000/user/manics-cd04d42b-0430ee33349cd49-xfqj9xi3/proxy/absolute/8000/\n[D 2021-03-24 21:30:56.103 JupyterHub proxy:667] Proxy cmd: ['configurable-http-proxy', '--ip', '', '--port', '8000', '--api-ip', '127.0.0.1', '--api-port', '8001', '--error-target', 'http://127.0.0.1:8081/user/manics-cd04d42b-0430ee33349cd49-xfqj9xi3/proxy/absolute/8000/hub/error']\n[D 2021-03-24 21:30:56.122 JupyterHub proxy:574] Writing proxy pid file: jupyterhub-proxy.pid\n21:30:56.286 [ConfigProxy] \u001b[32minfo\u001b[39m: Proxying http://*:8000 to (no default)\n21:30:56.288 [ConfigProxy] \u001b[32minfo\u001b[39m: Proxy API at http://127.0.0.1:8001/api/routes\n[D 2021-03-24 21:30:56.327 JupyterHub proxy:702] Proxy started and appears to be up\n[D 2021-03-24 21:30:56.330 JupyterHub proxy:795] Proxy: Fetching GET http://127.0.0.1:8001/api/routes\n21:30:56.338 [ConfigProxy] \u001b[32minfo\u001b[39m: 200 GET /api/routes \n[I 2021-03-24 21:30:56.339 JupyterHub app:2664] Hub API listening on http://127.0.0.1:8081/user/manics-cd04d42b-0430ee33349cd49-xfqj9xi3/proxy/absolute/8000/hub/\n[D 2021-03-24 21:30:56.339 JupyterHub proxy:314] Fetching routes to check\n[D 2021-03-24 21:30:56.339 JupyterHub proxy:795] Proxy: Fetching GET http://127.0.0.1:8001/api/routes\n21:30:56.341 [ConfigProxy] \u001b[32minfo\u001b[39m: 200 GET /api/routes \n[I 2021-03-24 21:30:56.341 JupyterHub proxy:319] Checking routes\n[I 2021-03-24 21:30:56.341 JupyterHub proxy:399] Adding default route for Hub: /user/manics-cd04d42b-0430ee33349cd49-xfqj9xi3/proxy/absolute/8000/ => http://127.0.0.1:8081\n[D 2021-03-24 21:30:56.342 JupyterHub proxy:795] Proxy: Fetching POST http://127.0.0.1:8001/api/routes/user/manics-cd04d42b-0430ee33349cd49-xfqj9xi3/proxy/absolute/8000\n21:30:56.344 [ConfigProxy] \u001b[32minfo\u001b[39m: Adding route /user/manics-cd04d42b-0430ee33349cd49-xfqj9xi3/proxy/absolute/8000 -> http://127.0.0.1:8081\n21:30:56.345 [ConfigProxy] \u001b[32minfo\u001b[39m: Route added /user/manics-cd04d42b-0430ee33349cd49-xfqj9xi3/proxy/absolute/8000 -> http://127.0.0.1:8081\n21:30:56.345 [ConfigProxy] \u001b[32minfo\u001b[39m: 201 POST /api/routes/user/manics-cd04d42b-0430ee33349cd49-xfqj9xi3/proxy/absolute/8000 \n[I 2021-03-24 21:30:56.346 JupyterHub app:2739] JupyterHub is now running at http://:8000/user/manics-cd04d42b-0430ee33349cd49-xfqj9xi3/proxy/absolute/8000/\n[D 2021-03-24 21:30:56.346 JupyterHub app:2342] It took 0.453 seconds for the Hub to start\n[I 2021-03-24 21:32:17.004 JupyterHub log:181] 302 GET /user/manics-cd04d42b-0430ee33349cd49-xfqj9xi3/proxy/absolute/8000 -> /user/manics-cd04d42b-0430ee33349cd49-xfqj9xi3/proxy/absolute/8000/hub/ (@90.209.200.59) 2.03ms\n[W 2021-03-24 21:32:17.205 JupyterHub base:390] Invalid or expired cookie token\n[I 2021-03-24 21:32:17.206 JupyterHub log:181] 302 GET /user/manics-cd04d42b-0430ee33349cd49-xfqj9xi3/proxy/absolute/8000/hub/ -> /user/manics-cd04d42b-0430ee33349cd49-xfqj9xi3/proxy/absolute/8000/hub/login?next=%2Fuser%2Fmanics-cd04d42b-0430ee33349cd49-xfqj9xi3%2Fproxy%2Fabsolute%2F8000%2Fhub%2F (@90.209.200.59) 1.87ms\n[I 2021-03-24 21:32:17.436 JupyterHub log:181] 200 GET /user/manics-cd04d42b-0430ee33349cd49-xfqj9xi3/proxy/absolute/8000/hub/login?next=%2Fuser%2Fmanics-cd04d42b-0430ee33349cd49-xfqj9xi3%2Fproxy%2Fabsolute%2F8000%2Fhub%2F (@90.209.200.59) 30.15ms\n[D 2021-03-24 21:32:17.685 JupyterHub log:181] 200 GET /user/manics-cd04d42b-0430ee33349cd49-xfqj9xi3/proxy/absolute/8000/hub/logo (@90.209.200.59) 1.39ms\n[D 2021-03-24 21:32:21.392 JupyterHub base:525] Setting cookie for jovyan: jupyterhub-hub-login\n[D 2021-03-24 21:32:21.393 JupyterHub base:521] Setting cookie jupyterhub-hub-login: {'httponly': True, 'secure': True, 'path': '/user/manics-cd04d42b-0430ee33349cd49-xfqj9xi3/proxy/absolute/8000/hub/'}\n[I 2021-03-24 21:32:21.393 JupyterHub base:757] User logged in: jovyan\n[I 2021-03-24 21:32:21.394 JupyterHub log:181] 302 POST /user/manics-cd04d42b-0430ee33349cd49-xfqj9xi3/proxy/absolute/8000/hub/login?next=%2Fuser%2Fmanics-cd04d42b-0430ee33349cd49-xfqj9xi3%2Fproxy%2Fabsolute%2F8000%2Fhub%2F -> /user/manics-cd04d42b-0430ee33349cd49-xfqj9xi3/proxy/absolute/8000/hub/ (jovyan@90.209.200.59) 33.07ms\n[D 2021-03-24 21:32:21.553 JupyterHub base:283] Recording first activity for <User(jovyan 0/1 running)>\n[D 2021-03-24 21:32:21.560 JupyterHub user:288] Creating <class 'jupyterhub.spawner.LocalProcessSpawner'> for jovyan:\n[I 2021-03-24 21:32:21.562 JupyterHub log:181] 302 GET /user/manics-cd04d42b-0430ee33349cd49-xfqj9xi3/proxy/absolute/8000/hub/ -> /user/manics-cd04d42b-0430ee33349cd49-xfqj9xi3/proxy/absolute/8000/hub/spawn (jovyan@90.209.200.59) 12.92ms\n[D 2021-03-24 21:32:21.708 JupyterHub pages:218] Triggering spawn with default options for jovyan\n[D 2021-03-24 21:32:21.708 JupyterHub base:875] Initiating spawn for jovyan\n[D 2021-03-24 21:32:21.708 JupyterHub base:882] 0/100 concurrent spawns\n[D 2021-03-24 21:32:21.708 JupyterHub base:887] 0 active servers\n[D 2021-03-24 21:32:21.748 JupyterHub user:602] Calling Spawner.start for jovyan\n[I 2021-03-24 21:32:21.750 JupyterHub spawner:1451] Spawning jupyterhub-singleuser --port=51621\nFailed to set groups [Errno 1] Operation not permitted\n[D 2021-03-24 21:32:21.766 JupyterHub spawner:1147] Polling subprocess every 30s\n[I 2021-03-24 21:32:22.414 SingleUserNotebookApp notebookapp:1593] Authentication of /metrics is OFF, since other authentication is disabled.\n[I 2021-03-24 21:32:22.684 SingleUserNotebookApp notebookapp:2082] Will shut down after 600 seconds with no kernels or terminals.\n[I 2021-03-24 21:32:22.684 SingleUserNotebookApp mixins:557] Starting jupyterhub-singleuser server version 1.3.0\n[I 2021-03-24 21:32:22.688 JupyterHub log:181] 200 GET /user/manics-cd04d42b-0430ee33349cd49-xfqj9xi3/proxy/absolute/8000/hub/api (@127.0.0.1) 1.25ms\n[I 2021-03-24 21:32:22.689 SingleUserNotebookApp notebookapp:2302] Serving notebooks from local directory: /home/jovyan\n[I 2021-03-24 21:32:22.689 SingleUserNotebookApp notebookapp:2302] Jupyter Notebook 6.3.0 is running at:\n[I 2021-03-24 21:32:22.689 SingleUserNotebookApp notebookapp:2302] http://127.0.0.1:51621/user/manics-cd04d42b-0430ee33349cd49-xfqj9xi3/proxy/absolute/8000/user/jovyan/\n[I 2021-03-24 21:32:22.689 SingleUserNotebookApp notebookapp:2303] Use Control-C to stop this server and shut down all kernels (twice to skip confirmation).\n[I 2021-03-24 21:32:22.693 SingleUserNotebookApp mixins:538] Updating Hub with activity every 300 seconds\n[D 2021-03-24 21:32:22.699 JupyterHub base:283] Recording first activity for <APIToken('3cab...', user='jovyan')>\n[D 2021-03-24 21:32:22.729 JupyterHub users:766] Activity for user jovyan: 2021-03-24T21:32:22.414304Z\n[D 2021-03-24 21:32:22.729 JupyterHub users:787] Activity on server jovyan/: 2021-03-24T21:32:22.414304Z\n[I 2021-03-24 21:32:22.736 JupyterHub log:181] 200 POST /user/manics-cd04d42b-0430ee33349cd49-xfqj9xi3/proxy/absolute/8000/hub/api/users/jovyan/activity (jovyan@127.0.0.1) 41.17ms\n[I 2021-03-24 21:32:22.737 JupyterHub log:181] 302 GET /user/manics-cd04d42b-0430ee33349cd49-xfqj9xi3/proxy/absolute/8000/hub/spawn -> /user/manics-cd04d42b-0430ee33349cd49-xfqj9xi3/proxy/absolute/8000/hub/spawn-pending/jovyan (jovyan@90.209.200.59) 1032.10ms\n[I 2021-03-24 21:32:22.922 JupyterHub pages:402] jovyan is pending spawn\n[I 2021-03-24 21:32:22.928 JupyterHub log:181] 200 GET /user/manics-cd04d42b-0430ee33349cd49-xfqj9xi3/proxy/absolute/8000/hub/spawn-pending/jovyan (jovyan@90.209.200.59) 8.45ms\n[I 2021-03-24 21:32:23.032 SingleUserNotebookApp log:181] 302 GET /user/manics-cd04d42b-0430ee33349cd49-xfqj9xi3/proxy/absolute/8000/user/jovyan/ -> /user/manics-cd04d42b-0430ee33349cd49-xfqj9xi3/proxy/absolute/8000/user/jovyan/tree? (@127.0.0.1) 1.01ms\n[D 2021-03-24 21:32:23.032 JupyterHub utils:224] Server at http://127.0.0.1:51621/user/manics-cd04d42b-0430ee33349cd49-xfqj9xi3/proxy/absolute/8000/user/jovyan/ responded with 302\n[D 2021-03-24 21:32:23.032 JupyterHub _version:77] jupyterhub and jupyterhub-singleuser both on version 1.3.0\n[I 2021-03-24 21:32:23.032 JupyterHub base:905] User jovyan took 1.324 seconds to start\n[I 2021-03-24 21:32:23.033 JupyterHub proxy:261] Adding user jovyan to proxy /user/manics-cd04d42b-0430ee33349cd49-xfqj9xi3/proxy/absolute/8000/user/jovyan/ => http://127.0.0.1:51621\n[D 2021-03-24 21:32:23.033 JupyterHub proxy:795] Proxy: Fetching POST http://127.0.0.1:8001/api/routes/user/manics-cd04d42b-0430ee33349cd49-xfqj9xi3/proxy/absolute/8000/user/jovyan\n21:32:23.035 [ConfigProxy] \u001b[32minfo\u001b[39m: Adding route /user/manics-cd04d42b-0430ee33349cd49-xfqj9xi3/proxy/absolute/8000/user/jovyan -> http://127.0.0.1:51621\n21:32:23.036 [ConfigProxy] \u001b[32minfo\u001b[39m: Route added /user/manics-cd04d42b-0430ee33349cd49-xfqj9xi3/proxy/absolute/8000/user/jovyan -> http://127.0.0.1:51621\n21:32:23.036 [ConfigProxy] \u001b[32minfo\u001b[39m: 201 POST /api/routes/user/manics-cd04d42b-0430ee33349cd49-xfqj9xi3/proxy/absolute/8000/user/jovyan \n[I 2021-03-24 21:32:23.233 JupyterHub users:626] Server jovyan is already started\n[I 2021-03-24 21:32:23.233 JupyterHub log:181] 200 GET /user/manics-cd04d42b-0430ee33349cd49-xfqj9xi3/proxy/absolute/8000/hub/api/users/jovyan/server/progress (jovyan@90.209.200.59) 4.61ms\n[I 2021-03-24 21:32:23.480 JupyterHub log:181] 302 GET /user/manics-cd04d42b-0430ee33349cd49-xfqj9xi3/proxy/absolute/8000/hub/spawn-pending/jovyan -> /user/manics-cd04d42b-0430ee33349cd49-xfqj9xi3/proxy/absolute/8000/user/jovyan/ (jovyan@90.209.200.59) 2.26ms\n[I 2021-03-24 21:32:23.662 SingleUserNotebookApp log:181] 302 GET /user/manics-cd04d42b-0430ee33349cd49-xfqj9xi3/proxy/absolute/8000/user/jovyan/ -> /user/manics-cd04d42b-0430ee33349cd49-xfqj9xi3/proxy/absolute/8000/user/jovyan/tree? (@90.209.200.59) 0.78ms\n[I 2021-03-24 21:32:23.871 SingleUserNotebookApp log:181] 302 GET /user/manics-cd04d42b-0430ee33349cd49-xfqj9xi3/proxy/absolute/8000/user/jovyan/tree -> /user/manics-cd04d42b-0430ee33349cd49-xfqj9xi3/proxy/absolute/8000/hub/api/oauth2/authorize?client_id=jupyterhub-user-jovyan&redirect_uri=%2Fuser%2Fmanics-cd04d42b-0430ee33349cd49-xfqj9xi3%2Fproxy%2Fabsolute%2F8000%2Fuser%2Fjovyan%2Foauth_callback&response_type=code&state=[secret] (@90.209.200.59) 2.30ms\n[D 2021-03-24 21:32:24.065 JupyterHub provider:409] Validating client id jupyterhub-user-jovyan\n[D 2021-03-24 21:32:24.066 JupyterHub provider:487] validate_redirect_uri: client_id=jupyterhub-user-jovyan, redirect_uri=/user/manics-cd04d42b-0430ee33349cd49-xfqj9xi3/proxy/absolute/8000/user/jovyan/oauth_callback\n[D 2021-03-24 21:32:24.068 JupyterHub auth:247] Skipping oauth confirmation for <User(jovyan 1/1 running)> accessing Server at /user/manics-cd04d42b-0430ee33349cd49-xfqj9xi3/proxy/absolute/8000/user/jovyan/\n[D 2021-03-24 21:32:24.069 JupyterHub provider:409] Validating client id jupyterhub-user-jovyan\n[D 2021-03-24 21:32:24.069 JupyterHub provider:487] validate_redirect_uri: client_id=jupyterhub-user-jovyan, redirect_uri=/user/manics-cd04d42b-0430ee33349cd49-xfqj9xi3/proxy/absolute/8000/user/jovyan/oauth_callback\n[D 2021-03-24 21:32:24.070 JupyterHub provider:236] Saving authorization code jupyterhub-user-jovyan, tcg..., (), {}\n[I 2021-03-24 21:32:24.080 JupyterHub log:181] 302 GET /user/manics-cd04d42b-0430ee33349cd49-xfqj9xi3/proxy/absolute/8000/hub/api/oauth2/authorize?client_id=jupyterhub-user-jovyan&redirect_uri=%2Fuser%2Fmanics-cd04d42b-0430ee33349cd49-xfqj9xi3%2Fproxy%2Fabsolute%2F8000%2Fuser%2Fjovyan%2Foauth_callback&response_type=code&state=[secret] -> /user/manics-cd04d42b-0430ee33349cd49-xfqj9xi3/proxy/absolute/8000/user/jovyan/oauth_callback?code=[secret]&state=[secret] (jovyan@90.209.200.59) 17.35ms\n[D 2021-03-24 21:32:24.296 JupyterHub provider:55] authenticate_client <oauthlib.Request SANITIZED>\n[D 2021-03-24 21:32:24.302 JupyterHub provider:114] confirm_redirect_uri: client_id=jupyterhub-user-jovyan, redirect_uri=/user/manics-cd04d42b-0430ee33349cd49-xfqj9xi3/proxy/absolute/8000/user/jovyan/oauth_callback\n[D 2021-03-24 21:32:24.303 JupyterHub provider:334] Saving bearer token {'access_token': 'REDACTED', 'expires_in': 3600, 'token_type': 'Bearer', 'scope': 'identify', 'refresh_token': 'REDACTED'}\n[D 2021-03-24 21:32:24.312 JupyterHub provider:189] Deleting oauth code tcg... for jupyterhub-user-jovyan\n[I 2021-03-24 21:32:24.323 JupyterHub log:181] 200 POST /user/manics-cd04d42b-0430ee33349cd49-xfqj9xi3/proxy/absolute/8000/hub/api/oauth2/token (jovyan@127.0.0.1) 29.93ms\n[I 2021-03-24 21:32:24.342 JupyterHub log:181] 200 GET /user/manics-cd04d42b-0430ee33349cd49-xfqj9xi3/proxy/absolute/8000/hub/api/authorizations/token/[secret] (jovyan@127.0.0.1) 16.17ms\n[I 2021-03-24 21:32:24.342 SingleUserNotebookApp auth:983] Logged-in user {'kind': 'user', 'name': 'jovyan', 'admin': False, 'groups': [], 'server': '/user/manics-cd04d42b-0430ee33349cd49-xfqj9xi3/proxy/absolute/8000/user/jovyan/', 'pending': None, 'created': '2021-03-24T21:32:21.369436Z', 'last_activity': '2021-03-24T21:32:24.332235Z', 'servers': None}\n[I 2021-03-24 21:32:24.344 SingleUserNotebookApp log:181] 302 GET /user/manics-cd04d42b-0430ee33349cd49-xfqj9xi3/proxy/absolute/8000/user/jovyan/oauth_callback?code=[secret]&state=[secret] -> /user/manics-cd04d42b-0430ee33349cd49-xfqj9xi3/proxy/absolute/8000/user/jovyan/tree (@90.209.200.59) 54.25ms\n[D 2021-03-24 21:32:25.733 JupyterHub log:181] 304 GET /user/manics-cd04d42b-0430ee33349cd49-xfqj9xi3/proxy/absolute/8000/hub/logo (@90.209.200.59) 1.18ms\n[I 2021-03-24 21:32:26.132 SingleUserNotebookApp log:181] 200 GET /user/manics-cd04d42b-0430ee33349cd49-xfqj9xi3/proxy/absolute/8000/user/jovyan/api/config/tree?_=1616621545679 (jovyan@90.209.200.59) 3.56ms\n[I 2021-03-24 21:32:26.175 SingleUserNotebookApp log:181] 200 GET /user/manics-cd04d42b-0430ee33349cd49-xfqj9xi3/proxy/absolute/8000/user/jovyan/api/config/common?_=1616621545680 (jovyan@90.209.200.59) 2.59ms\n[I 2021-03-24 21:32:26.179 SingleUserNotebookApp log:181] 200 GET /user/manics-cd04d42b-0430ee33349cd49-xfqj9xi3/proxy/absolute/8000/user/jovyan/api/sessions?_=1616621545682 (jovyan@90.209.200.59) 3.36ms\n[I 2021-03-24 21:32:26.182 SingleUserNotebookApp log:181] 200 GET /user/manics-cd04d42b-0430ee33349cd49-xfqj9xi3/proxy/absolute/8000/user/jovyan/api/terminals?_=1616621545681 (jovyan@90.209.200.59) 1.60ms\n[I 2021-03-24 21:32:26.183 SingleUserNotebookApp log:181] 200 GET /user/manics-cd04d42b-0430ee33349cd49-xfqj9xi3/proxy/absolute/8000/user/jovyan/api/terminals?_=1616621545683 (jovyan@90.209.200.59) 2.07ms\n[I 2021-03-24 21:32:26.186 SingleUserNotebookApp log:181] 200 GET /user/manics-cd04d42b-0430ee33349cd49-xfqj9xi3/proxy/absolute/8000/user/jovyan/api/kernelspecs (jovyan@90.209.200.59) 5.23ms\n[I 2021-03-24 21:32:26.388 SingleUserNotebookApp log:181] 200 GET /user/manics-cd04d42b-0430ee33349cd49-xfqj9xi3/proxy/absolute/8000/user/jovyan/api/contents?type=directory&_=1616621545684 (jovyan@90.209.200.59) 3.84ms\n",
          "output_type": "stream"
        }
      ]
    },
    {
      "cell_type": "code",
      "source": "",
      "metadata": {},
      "execution_count": null,
      "outputs": []
    }
  ]
}